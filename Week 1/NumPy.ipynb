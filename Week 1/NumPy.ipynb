{
 "cells": [
  {
   "cell_type": "markdown",
   "metadata": {},
   "source": [
    "## Getting hands-on with NumPy\n"
   ]
  },
  {
   "cell_type": "markdown",
   "metadata": {},
   "source": [
    "This assignment aims at acquainting you with numpy methods which you will require during this project. So, it is advised that you follow the instructions before each code cell diligently.<br>\n",
    "You are encouraged to google (or ChatGPT) things up wherever you feel stuck : )<br>\n",
    "But make sure you understand things and not just copy-paste them\n"
   ]
  },
  {
   "cell_type": "markdown",
   "metadata": {},
   "source": [
    "### **Import the NumPy library**\n"
   ]
  },
  {
   "cell_type": "code",
   "execution_count": 1,
   "metadata": {},
   "outputs": [],
   "source": [
    "import numpy as np\n"
   ]
  },
  {
   "cell_type": "markdown",
   "metadata": {},
   "source": [
    "### **Initialising arrays in NumPy**\n"
   ]
  },
  {
   "cell_type": "markdown",
   "metadata": {},
   "source": [
    "NumPy offers several way to initialise arrays\n",
    "\n",
    "- Create a $2\\times3$ array identical to\n",
    "  $\\begin{bmatrix}\n",
    "1 & 2 & 4\\\\\n",
    "7 & 13 & 21\\\\\n",
    "\\end{bmatrix}$ and a $2\\times2\\times3$ array identical to\n",
    "  $\\begin{bmatrix}\n",
    "[1 & 2 & 3] & [4 & 5 & 6]\\\\\n",
    "[7 & 8 & 9] & [10 & 11 & 12]\\\\\n",
    "\\end{bmatrix}$\n"
   ]
  },
  {
   "cell_type": "code",
   "execution_count": null,
   "metadata": {},
   "outputs": [
    {
     "name": "stdout",
     "output_type": "stream",
     "text": [
      "arr1:\n",
      " [[ 1  2  4]\n",
      " [ 7 13 21]]\n",
      "Shape of arr1: (2, 3) ; No. of Dimensions: 2\n",
      "arr2:\n",
      " [[[ 1  2  3]\n",
      "  [ 4  5  6]]\n",
      "\n",
      " [[ 7  8  9]\n",
      "  [10 11 12]]]\n",
      "Shape of arr2: (2, 2, 3) ; No. of Dimensions: 3\n"
     ]
    }
   ],
   "source": [
    "# START\n",
    "    # Enter the values for the 2x3 array\n",
    "arr1 = np.array([[1, 2, 4], [7, 13, 21]])\n",
    "    # Similarly initialise the second array and assign it to arr2\n",
    "arr2 = np.array([[[1,2,3],[4,5,6]],[[7,8,9],[10,11,12]]])\n",
    "# END\n",
    "\n",
    "print(\"arr1:\\n\", arr1)\n",
    "print(\"Shape of arr1:\", arr1.shape, \"; No. of Dimensions:\", arr1.ndim)\n",
    "print(\"arr2:\\n\", arr2)\n",
    "print(\"Shape of arr2:\", arr2.shape, \"; No. of Dimensions:\", arr2.ndim)\n"
   ]
  },
  {
   "cell_type": "markdown",
   "metadata": {},
   "source": [
    "Note that the shapes and no. of dimensions of the arrays have been printed. These attributes help a lot in debugging\n"
   ]
  },
  {
   "cell_type": "markdown",
   "metadata": {},
   "source": [
    "Now create\n",
    "\n",
    "- A $2\\times3$ array **arr3** of all zeros using **np.zeros**\n",
    "- A $2\\times3$ array **arr4** of all ones using **np.ones**\n",
    "- A $2\\times3$ array **arr5** of all fives using **np.full**\n",
    "- A 1-D array **arr6** containing only even numbers in the range $0-20$ using **np.arange**\n",
    "- Repeat last task using **np.linspace** and name it **arr7**\n"
   ]
  },
  {
   "cell_type": "code",
   "execution_count": 11,
   "metadata": {},
   "outputs": [
    {
     "name": "stdout",
     "output_type": "stream",
     "text": [
      "arr3: [[0. 0. 0.]\n",
      " [0. 0. 0.]]\n",
      "arr4: [[1. 1. 1.]\n",
      " [1. 1. 1.]]\n",
      "arr5: [[5 5 5]\n",
      " [5 5 5]]\n",
      "arr6: [ 0  2  4  6  8 10 12 14 16 18 20]\n",
      "arr7: [ 0.  2.  4.  6.  8. 10. 12. 14. 16. 18. 20.]\n"
     ]
    }
   ],
   "source": [
    "# START\n",
    "arr3 = np.zeros((2,3))\n",
    "arr4 = np.ones((2,3))\n",
    "arr5 = np.full((2, 3), 5)\n",
    "arr6 = np.arange(0, 21, 2)\n",
    "arr7 = np.linspace(0, 20, num=11)\n",
    "# END\n",
    "\n",
    "print(f\"arr3: {arr3}\")\n",
    "print(f\"arr4: {arr4}\")\n",
    "print(f\"arr5: {arr5}\")\n",
    "print(f\"arr6: {arr6}\")\n",
    "print(f\"arr7: {arr7}\")\n"
   ]
  },
  {
   "cell_type": "markdown",
   "metadata": {},
   "source": [
    "Creating arrays with random values\n",
    "\n",
    "- Create a $2\\times3$ array **arr8** using **np.random.rand**\n",
    "- Create a $2\\times3$ array **arr9** with rnadom integer values in $[5,8)$ using **randint** method of **random** module\n"
   ]
  },
  {
   "cell_type": "code",
   "execution_count": 18,
   "metadata": {},
   "outputs": [
    {
     "name": "stdout",
     "output_type": "stream",
     "text": [
      "[[0.84341246 0.49387978 0.2751486 ]\n",
      " [0.56293821 0.74683325 0.47783612]]\n",
      "[[5 7 7]\n",
      " [5 7 5]]\n"
     ]
    }
   ],
   "source": [
    "# START\n",
    "arr8 = np.random.rand(2,3)\n",
    "arr9 = np.random.randint(5,8,(2,3))\n",
    "# END\n",
    "\n",
    "print(arr8)\n",
    "print(arr9)\n"
   ]
  },
  {
   "cell_type": "markdown",
   "metadata": {},
   "source": [
    "### **Accessing arrays in NumPy**\n"
   ]
  },
  {
   "cell_type": "markdown",
   "metadata": {},
   "source": [
    "Initialise an array **arr** $=\n",
    "\\begin{bmatrix}\n",
    "1 & 3 & 5 & 7\\\\\n",
    "9 & 11 & 13 & 15\\\\\n",
    "17 & 19 & 21 & 23\n",
    "\\end{bmatrix}$ and perform the following operations:<br>\n",
    "\n",
    "- Extract and print the element 13 using numpy array indexing\n",
    "- Use array slicing to print only the 2nd and 4th columns of only the 2nd and 3rd rows of _arr_\n",
    "- Print all the values in _arr_ which are a multiple of 3\n"
   ]
  },
  {
   "cell_type": "code",
   "execution_count": null,
   "metadata": {},
   "outputs": [
    {
     "name": "stdout",
     "output_type": "stream",
     "text": [
      "Element 13: 13\n",
      "\n",
      "2nd and 4th columns of 2nd and 3rd rows:\n",
      "[[11 15]\n",
      " [19 23]]\n",
      "\n",
      "Values in arr that are multiples of 3:\n",
      "[ 3  9 15 21]\n"
     ]
    }
   ],
   "source": [
    "arr = np.array([\n",
    "    [1, 3, 5, 7],\n",
    "    [9, 11, 13, 15],\n",
    "    [17, 19, 21, 23]\n",
    "])\n",
    "\n",
    "element_13 = arr[1, 2]\n",
    "print(\"Element 13:\", element_13)\n",
    "\n",
    "sliced_part = arr[1:3, [1, 3]]\n",
    "print(\"\\n2nd and 4th columns of 2nd and 3rd rows:\")\n",
    "print(sliced_part)\n",
    "\n",
    "multiples_of_3 = arr[arr % 3 == 0]\n",
    "print(\"\\nValues in arr that are multiples of 3:\")\n",
    "print(multiples_of_3)\n"
   ]
  },
  {
   "cell_type": "markdown",
   "metadata": {},
   "source": [
    "### **Reshaping and Broadcasting**\n"
   ]
  },
  {
   "cell_type": "markdown",
   "metadata": {},
   "source": [
    "- Reshape _arr_ into a $2\\times6$ matrix and print it\n",
    "- Print the transpose of _arr_\n"
   ]
  },
  {
   "cell_type": "code",
   "execution_count": 22,
   "metadata": {},
   "outputs": [
    {
     "name": "stdout",
     "output_type": "stream",
     "text": [
      "[[ 1  3  5  7  9 11]\n",
      " [13 15 17 19 21 23]]\n",
      "[[ 1  9 17]\n",
      " [ 3 11 19]\n",
      " [ 5 13 21]\n",
      " [ 7 15 23]]\n"
     ]
    }
   ],
   "source": [
    "reshaped_arr = arr.reshape(2, 6)\n",
    "print(reshaped_arr)\n",
    "\n",
    "transposed_arr = arr.T\n",
    "print(transposed_arr)\n"
   ]
  },
  {
   "cell_type": "markdown",
   "metadata": {},
   "source": [
    "Moving on to broadcasting, you are given two arrays **a** $=\n",
    "\\begin{bmatrix}\n",
    "1 & 2 & 3\n",
    "\\end{bmatrix}$ and **b** $=\n",
    "\\begin{bmatrix}\n",
    "4\\\\\n",
    "5\n",
    "\\end{bmatrix}$<br>\n",
    "\n",
    "Try adding these two arrays using **+** operator and print the result\n"
   ]
  },
  {
   "cell_type": "code",
   "execution_count": 23,
   "metadata": {},
   "outputs": [
    {
     "name": "stdout",
     "output_type": "stream",
     "text": [
      "[[5 6 7]\n",
      " [6 7 8]]\n"
     ]
    }
   ],
   "source": [
    "a = np.array([1,2,3])\n",
    "b = np.array([4,5]).reshape(2,1)\n",
    "print(a+b)\n"
   ]
  },
  {
   "cell_type": "markdown",
   "metadata": {},
   "source": [
    "You will find that NumPy repeats the values for the arrays to match dimensions and be compatible while doing a particular matrix operation. In general, a dimension is compatible if it is equal to the respective dimension of the other array or if it is 1\n"
   ]
  },
  {
   "cell_type": "markdown",
   "metadata": {},
   "source": [
    "### **Miscellaneous**\n"
   ]
  },
  {
   "cell_type": "markdown",
   "metadata": {},
   "source": [
    "Be cautious while multiplying matrices and don't confuse the functions doing element wise multiplication with the ones doing traditional matrix multipication.\n"
   ]
  },
  {
   "cell_type": "code",
   "execution_count": 24,
   "metadata": {},
   "outputs": [],
   "source": [
    "a = np.array([1,2,3])\n"
   ]
  },
  {
   "cell_type": "code",
   "execution_count": 29,
   "metadata": {},
   "outputs": [
    {
     "name": "stdout",
     "output_type": "stream",
     "text": [
      "[[ 1 18 51]\n",
      " [ 3 22 57]\n",
      " [ 5 26 63]\n",
      " [ 7 30 69]]\n",
      "[[ 1 18 51]\n",
      " [ 3 22 57]\n",
      " [ 5 26 63]\n",
      " [ 7 30 69]]\n"
     ]
    }
   ],
   "source": [
    "# Use np.multiply and the * operator to multiply 'arr' and 'a' in this cell, note that you may need to take transpose of one or the other matrix during this operation\n",
    "b = np.multiply(arr.T,a)\n",
    "print(b)\n",
    "c = arr.T*a\n",
    "print(c)\n"
   ]
  },
  {
   "cell_type": "code",
   "execution_count": 30,
   "metadata": {},
   "outputs": [
    {
     "name": "stdout",
     "output_type": "stream",
     "text": [
      "[ 70  82  94 106]\n",
      "[ 70  82  94 106]\n"
     ]
    }
   ],
   "source": [
    "# Use np.matmul and np.dot functions to multiply 'arr' and 'a' in this cell, again you may need to take transpose of one or the other matrix\n",
    "d = np.matmul(arr.T,a)\n",
    "print(d)\n",
    "e = np.dot(arr.T,a)\n",
    "print(e)\n"
   ]
  }
 ],
 "metadata": {
  "kernelspec": {
   "display_name": "Python 3",
   "language": "python",
   "name": "python3"
  },
  "language_info": {
   "codemirror_mode": {
    "name": "ipython",
    "version": 3
   },
   "file_extension": ".py",
   "mimetype": "text/x-python",
   "name": "python",
   "nbconvert_exporter": "python",
   "pygments_lexer": "ipython3",
   "version": "3.12.3"
  }
 },
 "nbformat": 4,
 "nbformat_minor": 2
}
