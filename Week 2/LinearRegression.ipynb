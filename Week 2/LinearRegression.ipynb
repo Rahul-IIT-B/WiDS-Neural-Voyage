{
 "cells": [
  {
   "cell_type": "markdown",
   "metadata": {},
   "source": [
    "# Linear Regression"
   ]
  },
  {
   "cell_type": "markdown",
   "metadata": {},
   "source": [
    "In this assignment, you need to understand and implement linear regression and evaluate its performance on the Boston Housing Dataset"
   ]
  },
  {
   "cell_type": "markdown",
   "metadata": {},
   "source": [
    "### **Import Libraries**"
   ]
  },
  {
   "cell_type": "code",
   "execution_count": 1,
   "metadata": {},
   "outputs": [],
   "source": [
    "import numpy as np\n",
    "import pandas as pd\n",
    "import matplotlib.pyplot as plt\n",
    "from sklearn.model_selection import train_test_split\n",
    "from sklearn.metrics import mean_squared_error, r2_score\n"
   ]
  },
  {
   "cell_type": "markdown",
   "metadata": {},
   "source": [
    "### **Load the dataset**\n",
    "Use pd.read_csv() function to read data from the 'HousingData.csv' file"
   ]
  },
  {
   "cell_type": "code",
   "execution_count": 2,
   "metadata": {},
   "outputs": [],
   "source": [
    "data = pd.read_csv('HousingData.csv')\n"
   ]
  },
  {
   "cell_type": "markdown",
   "metadata": {},
   "source": [
    "### **Data Preparation**"
   ]
  },
  {
   "cell_type": "markdown",
   "metadata": {},
   "source": [
    "We will split the dataset into training and testing data with an 80/20 split."
   ]
  },
  {
   "cell_type": "code",
   "execution_count": 3,
   "metadata": {},
   "outputs": [],
   "source": [
    "from sklearn.preprocessing import StandardScaler\n",
    "\n",
    "X = data.drop(columns='MEDV').values    # All input features\n",
    "y = data['MEDV'].values                 # Target variable\n",
    "\n",
    "scaler = StandardScaler()\n",
    "X = scaler.fit_transform(X)             # Normalizing the input data to avoid any overflows\n",
    "\n",
    "# Split into train and test sets\n",
    "X_train, X_test, y_train, y_test = train_test_split(X, y, test_size=0.2, random_state=42)   # specifying random state ensures that the random split is same everytime we run this command\n",
    "\n",
    "# Drop rows with NaN or Inf\n",
    "y_train = y_train[~np.isnan(X_train).any(axis=1)]\n",
    "X_train = X_train[~np.isnan(X_train).any(axis=1)]\n",
    "\n",
    "y_train = y_train[~np.isinf(X_train).any(axis=1)]\n",
    "X_train = X_train[~np.isinf(X_train).any(axis=1)]\n",
    "\n",
    "# Similarly for X_test\n",
    "y_test = y_test[~np.isnan(X_test).any(axis=1)]\n",
    "X_test = X_test[~np.isnan(X_test).any(axis=1)]\n",
    "\n",
    "y_test = y_test[~np.isinf(X_test).any(axis=1)]\n",
    "X_test = X_test[~np.isinf(X_test).any(axis=1)]\n"
   ]
  },
  {
   "cell_type": "markdown",
   "metadata": {},
   "source": [
    "### **Implement Linear Regression from Scratch**"
   ]
  },
  {
   "cell_type": "markdown",
   "metadata": {},
   "source": [
    "The three major tasks in this process are:\n",
    "* Fitting the model using gradient descent\n",
    "* Predicting values for test data\n",
    "* Calculating the Mean Squared Error (MSE)\n",
    "\n",
    "Since this implementation will handle multiple input features, it is called multivariate linear regression"
   ]
  },
  {
   "cell_type": "code",
   "execution_count": 4,
   "metadata": {},
   "outputs": [],
   "source": [
    "class LinearRegression:\n",
    "    def __init__(self):\n",
    "        # Initialize weights and bias\n",
    "        self.weights = None\n",
    "        self.bias = 0\n",
    "\n",
    "    def fit(self, X, y, lr=0.01, epochs=1000):\n",
    "        # Initialize parameters\n",
    "        n_samples, n_features = X.shape\n",
    "        self.weights = np.zeros(n_features)\n",
    "        self.bias = 0\n",
    "\n",
    "        # Gradient descent\n",
    "        for _ in range(epochs):\n",
    "            y_pred = np.dot(X, self.weights) + self.bias\n",
    "\n",
    "            # Calculate gradients\n",
    "            dw = -(2/n_samples) * np.dot(X.T, (y - y_pred))\n",
    "            db = -(2/n_samples) * np.sum(y - y_pred)\n",
    "\n",
    "            # Update weights and bias\n",
    "            self.weights -= lr * dw\n",
    "            self.bias -= lr * db\n",
    "\n",
    "    def predict(self, X):\n",
    "        return np.dot(X, self.weights) + self.bias\n",
    "\n",
    "    def mean_squared_error(self, y_true, y_pred):\n",
    "        return np.mean((y_true - y_pred) ** 2)\n"
   ]
  },
  {
   "cell_type": "markdown",
   "metadata": {},
   "source": [
    "### **Instantiate the model**\n",
    "Create an instance of the class and name it *model* and fit on the training data with **learning rate = 0.01** and **1000 iterations**."
   ]
  },
  {
   "cell_type": "code",
   "execution_count": 5,
   "metadata": {},
   "outputs": [],
   "source": [
    "# Initialize the model\n",
    "model = LinearRegression()\n",
    "\n",
    "# Train the model\n",
    "model.fit(X_train, y_train, lr=0.01, epochs=1000)\n"
   ]
  },
  {
   "cell_type": "markdown",
   "metadata": {},
   "source": [
    "### **Evaluate the Model**\n",
    "Evaluate the model's performance on the test set using:\n",
    "1. Mean Squared Error (MSE)\n",
    "2. R-squared Score"
   ]
  },
  {
   "cell_type": "code",
   "execution_count": 6,
   "metadata": {},
   "outputs": [],
   "source": [
    "# Define the R2_score function\n",
    "def R2_score(y_test, y_test_pred):\n",
    "    y_mean = y_test.mean()\n",
    "    return 1 - ((sum((y_test - y_test_pred) ** 2)) / (sum((y_test - y_mean) ** 2)))\n"
   ]
  },
  {
   "cell_type": "code",
   "execution_count": 7,
   "metadata": {},
   "outputs": [
    {
     "name": "stdout",
     "output_type": "stream",
     "text": [
      "Mean Squared Error: 28.86\n",
      "R-squared Score: 0.64\n"
     ]
    }
   ],
   "source": [
    "# Predict on test data\n",
    "y_test_pred = model.predict(X_test)\n",
    "\n",
    "# Calculate evaluation metrics\n",
    "mse = model.mean_squared_error(y_test, y_test_pred)\n",
    "r2 = R2_score(y_test, y_test_pred)\n",
    "\n",
    "print(f\"Mean Squared Error: {mse:.2f}\")\n",
    "print(f\"R-squared Score: {r2:.2f}\")\n"
   ]
  },
  {
   "cell_type": "markdown",
   "metadata": {},
   "source": [
    "## **Comparing your results with sklearn's Linear Regression**\n",
    "To validate your implementation, let's compare the results with sklearn's `LinearRegression` model"
   ]
  },
  {
   "cell_type": "code",
   "execution_count": 8,
   "metadata": {},
   "outputs": [
    {
     "name": "stdout",
     "output_type": "stream",
     "text": [
      "Sklearn Model's Mean Squared Error: 28.28\n",
      "Sklearn Model's R-squared Score: 0.65\n",
      "Your Model's Weights: [-0.80089071  0.5743925   0.20517271  0.81914435 -1.80107614  3.8063996\n",
      " -0.7328364  -2.66187963  1.28953457 -1.32076864 -1.80567854  1.26500569\n",
      " -2.47824325], Bias: 22.3467409525586\n",
      "Sklearn Model's Weights: [-0.85398223  0.70157882  0.43827141  0.78781896 -1.96706108  3.75216423\n",
      " -0.71110387 -2.78474597  1.88158777 -1.95524749 -1.8350734   1.2653661\n",
      " -2.48474063], Bias: 22.359044243978225\n"
     ]
    }
   ],
   "source": [
    "from sklearn.linear_model import LinearRegression\n",
    "\n",
    "lr = LinearRegression()\n",
    "lr.fit(X_train, y_train)\n",
    "\n",
    "# Predict and evaluate\n",
    "y_test_pred_sklearn = lr.predict(X_test)\n",
    "mse_sklearn = mean_squared_error(y_test, y_test_pred_sklearn)\n",
    "r2_sklearn = r2_score(y_test, y_test_pred_sklearn)\n",
    "\n",
    "print(f\"Sklearn Model's Mean Squared Error: {mse_sklearn:.2f}\")\n",
    "print(f\"Sklearn Model's R-squared Score: {r2_sklearn:.2f}\")\n",
    "\n",
    "# Compare weights and bias\n",
    "print(f\"Your Model's Weights: {model.weights}, Bias: {model.bias}\")\n",
    "print(f\"Sklearn Model's Weights: {lr.coef_}, Bias: {lr.intercept_}\")\n"
   ]
  }
 ],
 "metadata": {
  "kernelspec": {
   "display_name": "Python 3",
   "language": "python",
   "name": "python3"
  },
  "language_info": {
   "codemirror_mode": {
    "name": "ipython",
    "version": 3
   },
   "file_extension": ".py",
   "mimetype": "text/x-python",
   "name": "python",
   "nbconvert_exporter": "python",
   "pygments_lexer": "ipython3",
   "version": "3.12.3"
  }
 },
 "nbformat": 4,
 "nbformat_minor": 2
}
